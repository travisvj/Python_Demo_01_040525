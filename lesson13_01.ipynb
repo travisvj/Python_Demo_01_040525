{
  "nbformat": 4,
  "nbformat_minor": 0,
  "metadata": {
    "colab": {
      "provenance": [],
      "authorship_tag": "ABX9TyMwRugE5+dZvvLQftlg6ip3",
      "include_colab_link": true
    },
    "kernelspec": {
      "name": "python3",
      "display_name": "Python 3"
    },
    "language_info": {
      "name": "python"
    }
  },
  "cells": [
    {
      "cell_type": "markdown",
      "metadata": {
        "id": "view-in-github",
        "colab_type": "text"
      },
      "source": [
        "<a href=\"https://colab.research.google.com/github/travisvj/Python_Demo_01_040525/blob/main/lesson13_01.ipynb\" target=\"_parent\"><img src=\"https://colab.research.google.com/assets/colab-badge.svg\" alt=\"Open In Colab\"/></a>"
      ]
    },
    {
      "cell_type": "code",
      "execution_count": null,
      "metadata": {
        "id": "5RlkZVU3SMAM"
      },
      "outputs": [],
      "source": [
        "https://www.perplexity.ai/search/045ecda7-23bf-4d76-9155-fcb886e2425e"
      ]
    },
    {
      "cell_type": "code",
      "source": [],
      "metadata": {
        "id": "pXKFyRF3SaRp"
      },
      "execution_count": null,
      "outputs": []
    }
  ]
}