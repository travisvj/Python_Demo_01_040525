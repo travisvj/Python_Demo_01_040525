{
  "nbformat": 4,
  "nbformat_minor": 0,
  "metadata": {
    "colab": {
      "provenance": [],
      "authorship_tag": "ABX9TyNlDl113rbtGPetBzNVvUdl",
      "include_colab_link": true
    },
    "kernelspec": {
      "name": "python3",
      "display_name": "Python 3"
    },
    "language_info": {
      "name": "python"
    }
  },
  "cells": [
    {
      "cell_type": "markdown",
      "metadata": {
        "id": "view-in-github",
        "colab_type": "text"
      },
      "source": [
        "<a href=\"https://colab.research.google.com/github/travisvj/Python_Demo_01_040525/blob/main/lesson13_01.ipynb\" target=\"_parent\"><img src=\"https://colab.research.google.com/assets/colab-badge.svg\" alt=\"Open In Colab\"/></a>"
      ]
    },
    {
      "cell_type": "code",
      "execution_count": null,
      "metadata": {
        "id": "5RlkZVU3SMAM"
      },
      "outputs": [],
      "source": [
        "https://www.perplexity.ai/search/045ecda7-23bf-4d76-9155-fcb886e2425e"
      ]
    },
    {
      "cell_type": "code",
      "source": [
        "import numpy as np\n",
        "np.random.random()\n",
        "np.random.random(3)\n",
        "np.random.random(size=3)\n",
        "np.random.random((3, 4))\n",
        "np.random.random(size=(3,4))"
      ],
      "metadata": {
        "colab": {
          "base_uri": "https://localhost:8080/"
        },
        "id": "pXKFyRF3SaRp",
        "outputId": "02474bbe-f934-4b9a-9d52-f1a7138f21ae"
      },
      "execution_count": 1,
      "outputs": [
        {
          "output_type": "execute_result",
          "data": {
            "text/plain": [
              "array([[0.84206126, 0.07649444, 0.46109859, 0.49541307],\n",
              "       [0.27939382, 0.80723578, 0.26553102, 0.99265798],\n",
              "       [0.251657  , 0.98869678, 0.91011205, 0.69876852]])"
            ]
          },
          "metadata": {},
          "execution_count": 1
        }
      ]
    },
    {
      "cell_type": "code",
      "source": [
        "from numpy.random import normal\n",
        "\n",
        "normal_value = normal(size=(3, 4))\n",
        "#ndarray常用的實體屬性\n",
        "type(normal_value)\n",
        "normal_value.ndim\n",
        "normal_value.size\n",
        "normal_value.shape\n",
        "normal_value.dtype"
      ],
      "metadata": {
        "colab": {
          "base_uri": "https://localhost:8080/"
        },
        "id": "OIG13yGnUKh6",
        "outputId": "7ca0e8d1-1b01-4c82-97c3-a79f6de7ed4c"
      },
      "execution_count": 2,
      "outputs": [
        {
          "output_type": "execute_result",
          "data": {
            "text/plain": [
              "dtype('float64')"
            ]
          },
          "metadata": {},
          "execution_count": 2
        }
      ]
    },
    {
      "cell_type": "code",
      "source": [
        "#ndarray,陣列運算\n",
        "normal_value * 10"
      ],
      "metadata": {
        "colab": {
          "base_uri": "https://localhost:8080/"
        },
        "id": "pARi9eRHUNlW",
        "outputId": "d3797c78-ffdc-4fe5-f429-bdcdc09dff00"
      },
      "execution_count": 3,
      "outputs": [
        {
          "output_type": "execute_result",
          "data": {
            "text/plain": [
              "array([[12.3362727 , -5.04943281,  3.92559827,  7.28702926],\n",
              "       [ 1.52128202, -0.13458133, -4.64948296,  2.51511797],\n",
              "       [-2.07227929,  5.63830731, -3.28773824, -7.8891162 ]])"
            ]
          },
          "metadata": {},
          "execution_count": 3
        }
      ]
    },
    {
      "cell_type": "code",
      "source": [
        "#ndarray,的統計\n",
        "normal_value.sum()\n",
        "normal_value.sum(axis=0)\n",
        "normal_value.sum(axis=1)"
      ],
      "metadata": {
        "id": "QYYteiOGUQXY",
        "outputId": "0c0bd96f-3cb3-49c2-d2fd-6964861e9221",
        "colab": {
          "base_uri": "https://localhost:8080/"
        }
      },
      "execution_count": 4,
      "outputs": [
        {
          "output_type": "execute_result",
          "data": {
            "text/plain": [
              "array([ 1.84994674, -0.07476643, -0.76108264])"
            ]
          },
          "metadata": {},
          "execution_count": 4
        }
      ]
    }
  ]
}