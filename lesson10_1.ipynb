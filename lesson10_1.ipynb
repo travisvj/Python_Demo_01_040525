{
  "nbformat": 4,
  "nbformat_minor": 0,
  "metadata": {
    "colab": {
      "provenance": [],
      "authorship_tag": "ABX9TyNP6dDRc8TxxxJ3RcR6Eo+I",
      "include_colab_link": true
    },
    "kernelspec": {
      "name": "python3",
      "display_name": "Python 3"
    },
    "language_info": {
      "name": "python"
    }
  },
  "cells": [
    {
      "cell_type": "markdown",
      "metadata": {
        "id": "view-in-github",
        "colab_type": "text"
      },
      "source": [
        "<a href=\"https://colab.research.google.com/github/travisvj/Python_Demo_01_040525/blob/main/lesson10_1.ipynb\" target=\"_parent\"><img src=\"https://colab.research.google.com/assets/colab-badge.svg\" alt=\"Open In Colab\"/></a>"
      ]
    },
    {
      "cell_type": "code",
      "execution_count": null,
      "metadata": {
        "id": "vRndquD5EyUm"
      },
      "outputs": [],
      "source": [
        "https://www.perplexity.ai/search/3fe51208-8e87-4055-9e80-8c6114ac49d3\n",
        "\n",
        "import csv\n",
        "with open('個股日成交資訊.csv',encoding='utf-8',newline='') as csvfile:\n",
        "    reader = csv.reader(csvfile)\n",
        "    next(reader)\n",
        "    stacks:list[list] = list(reader)\n",
        "type(stacks)\n",
        "import csv\n",
        "with open('個股日成交資訊.csv',encoding='utf-8',newline='') as csvfile:\n",
        "    reader = csv.DictReader(csvfile)\n",
        "    stacks:list[dict] = list(reader)\n",
        "\n",
        "   # 印出 stacks 串列中的資料筆數\n",
        "print(f\"stacks 中共有 {len(stacks)} 筆資料。\")"
      ]
    }
  ]
}